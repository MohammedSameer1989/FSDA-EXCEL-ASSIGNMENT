{
 "cells": [
  {
   "cell_type": "markdown",
   "id": "2c507829-1086-4198-8eeb-bb843ba23e2a",
   "metadata": {},
   "source": [
    "Q1-What is the total amount of stationary bought from Madhya Pradesh?"
   ]
  },
  {
   "cell_type": "code",
   "execution_count": null,
   "id": "0a6c3a21-7718-4ece-b9e0-10bd32477454",
   "metadata": {},
   "outputs": [],
   "source": [
    "Ans-To determine the total amount of stationary bought from Madhya Pradesh, you would typically need access to the relevant data or records that contain information about the purchases, such as invoices or transaction records. If you have this data in a spreadsheet, database, or any other format, you can perform the following steps:\n",
    "\n",
    "Identify the Data Source: Locate the dataset or records that contain information about the purchases of stationary items. This dataset should include details such as the item name, quantity purchased, price per unit, and the location or state of purchase.\n",
    "Filter Data for Purchases from Madhya Pradesh: Filter the dataset to include only the records where the purchases were made from Madhya Pradesh. This can be done by examining the location or state column in the dataset and selecting the rows where the state is \"Madhya Pradesh\".\n",
    "Calculate Total Amount: Once you have filtered the dataset to include purchases from Madhya Pradesh, calculate the total amount spent on stationary items. This can be done by multiplying the quantity purchased by the price per unit for each item, and then summing up the total amounts for all the items.\n",
    "Here's a Python-like pseudocode example illustrating these steps:\n",
    "\n",
    "python\n",
    "Copy code\n",
    "# Sample dataset containing purchase records\n",
    "dataset = [\n",
    "    {\"item\": \"Pen\", \"quantity\": 100, \"price_per_unit\": 10, \"state\": \"Madhya Pradesh\"},\n",
    "    {\"item\": \"Notebook\", \"quantity\": 50, \"price_per_unit\": 50, \"state\": \"Maharashtra\"},\n",
    "    {\"item\": \"Pencil\", \"quantity\": 200, \"price_per_unit\": 5, \"state\": \"Madhya Pradesh\"},\n",
    "    # Other purchase records...\n",
    "]\n",
    "\n",
    "# Filter data for purchases from Madhya Pradesh\n",
    "madhya_pradesh_purchases = [record for record in dataset if record[\"state\"] == \"Madhya Pradesh\"]\n",
    "\n",
    "# Calculate total amount spent on stationary items from Madhya Pradesh\n",
    "total_amount = sum(record[\"quantity\"] * record[\"price_per_unit\"] for record in madhya_pradesh_purchases)\n",
    "\n",
    "print(\"Total amount of stationary bought from Madhya Pradesh:\", total_amount)\n",
    "Replace the dataset variable with your actual dataset containing purchase records, and modify the code accordingly to match the structure of your data. This pseudocode demonstrates the general approach to calculating the total amount spent on stationary items bought from Madhya Pradesh."
   ]
  },
  {
   "cell_type": "markdown",
   "id": "157378fc-a563-4a6c-b27a-909d1e8d113c",
   "metadata": {},
   "source": [
    "Q2-What is the total count of stationary bought from Tamilnadu?"
   ]
  },
  {
   "cell_type": "code",
   "execution_count": null,
   "id": "6e0b46aa-fc5d-4c4f-864c-6fae2027c4de",
   "metadata": {},
   "outputs": [],
   "source": [
    "Ans-To find the total count of stationary bought from Tamil Nadu, you would need access to the dataset containing purchase records, similar to the scenario described in the previous response. Once you have the dataset, you can follow these steps:\n",
    "\n",
    "Identify the Data Source: Locate the dataset or records that contain information about the purchases of stationary items. Ensure that the dataset includes details such as the item name, quantity purchased, price per unit, and the location or state of purchase.\n",
    "Filter Data for Purchases from Tamil Nadu: Filter the dataset to include only the records where the purchases were made from Tamil Nadu. This can be done by examining the location or state column in the dataset and selecting the rows where the state is \"Tamil Nadu\".\n",
    "Calculate Total Count: Once you have filtered the dataset to include purchases from Tamil Nadu, count the number of records or transactions. Each record represents a purchase of stationary items, so the total count will give you the number of purchases made from Tamil Nadu.\n",
    "Here's a Python-like pseudocode example illustrating these steps:\n",
    "\n",
    "python\n",
    "Copy code\n",
    "# Sample dataset containing purchase records\n",
    "dataset = [\n",
    "    {\"item\": \"Pen\", \"quantity\": 100, \"state\": \"Tamil Nadu\"},\n",
    "    {\"item\": \"Notebook\", \"quantity\": 50, \"state\": \"Maharashtra\"},\n",
    "    {\"item\": \"Pencil\", \"quantity\": 200, \"state\": \"Tamil Nadu\"},\n",
    "    # Other purchase records...\n",
    "]\n",
    "\n",
    "# Filter data for purchases from Tamil Nadu\n",
    "tamilnadu_purchases = [record for record in dataset if record[\"state\"] == \"Tamil Nadu\"]\n",
    "\n",
    "# Calculate total count of stationary bought from Tamil Nadu\n",
    "total_count = len(tamilnadu_purchases)\n",
    "\n",
    "print(\"Total count of stationary bought from Tamil Nadu:\", total_count)\n",
    "Replace the dataset variable with your actual dataset containing purchase records, and modify the code accordingly to match the structure of your data. This pseudocode demonstrates the general approach to calculating the total count of stationary bought from Tamil Nadu."
   ]
  },
  {
   "cell_type": "markdown",
   "id": "739f390b-96c6-4bcb-951d-57bde0fcf94f",
   "metadata": {},
   "source": [
    "Q3-What is the total amount spent on footwear?"
   ]
  },
  {
   "cell_type": "code",
   "execution_count": null,
   "id": "b77bd2af-c8b3-473a-9abb-8564424605f7",
   "metadata": {},
   "outputs": [],
   "source": [
    "Ans-To determine the total amount spent on footwear, you would typically need access to the dataset or records containing information about purchases, including details such as the item name, quantity purchased, price per unit, and category of the item (in this case, \"footwear\").\n",
    "\n",
    "Once you have the dataset, you can follow these steps to calculate the total amount spent on footwear:\n",
    "\n",
    "Identify the Data Source: Locate the dataset or records that contain information about purchases, including details such as the item name, quantity purchased, price per unit, and category of the item.\n",
    "Filter Data for Footwear Purchases: Filter the dataset to include only the records where the purchased items belong to the \"footwear\" category. This can be done by examining the category or item type column in the dataset and selecting the rows where the category is \"footwear\".\n",
    "Calculate Total Amount: Once you have filtered the dataset to include footwear purchases, calculate the total amount spent on footwear. This can be done by multiplying the quantity purchased by the price per unit for each footwear item, and then summing up the total amounts for all the footwear items.\n",
    "Here's a Python-like pseudocode example illustrating these steps:\n",
    "\n",
    "python\n",
    "Copy code\n",
    "# Sample dataset containing purchase records\n",
    "dataset = [\n",
    "    {\"item\": \"Sneakers\", \"quantity\": 2, \"price_per_unit\": 50, \"category\": \"footwear\"},\n",
    "    {\"item\": \"Sandals\", \"quantity\": 1, \"price_per_unit\": 30, \"category\": \"footwear\"},\n",
    "    {\"item\": \"Notebook\", \"quantity\": 3, \"price_per_unit\": 5, \"category\": \"stationery\"},\n",
    "    {\"item\": \"Pencil\", \"quantity\": 10, \"price_per_unit\": 1, \"category\": \"stationery\"},\n",
    "    # Other purchase records...\n",
    "]\n",
    "\n",
    "# Filter data for footwear purchases\n",
    "footwear_purchases = [record for record in dataset if record[\"category\"] == \"footwear\"]\n",
    "\n",
    "# Calculate total amount spent on footwear\n",
    "total_amount = sum(record[\"quantity\"] * record[\"price_per_unit\"] for record in footwear_purchases)\n",
    "\n",
    "print(\"Total amount spent on footwear:\", total_amount)\n",
    "Replace the dataset variable with your actual dataset containing purchase records, and modify the code accordingly to match the structure of your data. This pseudocode demonstrates the general approach to calculating the total amount spent on footwear."
   ]
  },
  {
   "cell_type": "markdown",
   "id": "adbb8bdc-f21d-4b56-9313-b63261a591fa",
   "metadata": {},
   "source": [
    "Q4-What is the total amount of money spent for stationary in July?"
   ]
  },
  {
   "cell_type": "code",
   "execution_count": null,
   "id": "c3b9ce0a-a41b-46cb-adb8-8e7465874e93",
   "metadata": {},
   "outputs": [],
   "source": [
    "Ans-To find the total amount of money spent on stationary in July, you would need access to the dataset or records containing purchase records, including details such as the item name, quantity purchased, price per unit, purchase date, and category of the item (in this case, \"stationery\").\n",
    "\n",
    "Once you have the dataset, you can follow these steps to calculate the total amount spent on stationary in July:\n",
    "\n",
    "Identify the Data Source: Locate the dataset or records that contain information about purchases, including details such as the item name, quantity purchased, price per unit, purchase date, and category of the item.\n",
    "Filter Data for July Purchases: Filter the dataset to include only the records where the purchases were made in July. This can be done by examining the purchase date column in the dataset and selecting the rows where the purchase date falls within the month of July.\n",
    "Filter Data for Stationery Purchases: Further filter the dataset to include only the records where the purchased items belong to the \"stationery\" category.\n",
    "Calculate Total Amount: Once you have filtered the dataset to include July purchases of stationery items, calculate the total amount spent on stationery. This can be done by multiplying the quantity purchased by the price per unit for each stationery item, and then summing up the total amounts for all the stationery items.\n",
    "Here's a Python-like pseudocode example illustrating these steps:\n",
    "\n",
    "python\n",
    "Copy code\n",
    "# Sample dataset containing purchase records\n",
    "dataset = [\n",
    "    {\"item\": \"Pen\", \"quantity\": 100, \"price_per_unit\": 10, \"category\": \"stationery\", \"purchase_date\": \"2022-07-05\"},\n",
    "    {\"item\": \"Notebook\", \"quantity\": 50, \"price_per_unit\": 50, \"category\": \"stationery\", \"purchase_date\": \"2022-07-10\"},\n",
    "    {\"item\": \"Pencil\", \"quantity\": 200, \"price_per_unit\": 5, \"category\": \"stationery\", \"purchase_date\": \"2022-06-30\"},\n",
    "    # Other purchase records...\n",
    "]\n",
    "\n",
    "# Filter data for July purchases\n",
    "july_purchases = [record for record in dataset if record[\"purchase_date\"].startswith(\"2022-07\")]\n",
    "\n",
    "# Filter data for stationery purchases in July\n",
    "july_stationery_purchases = [record for record in july_purchases if record[\"category\"] == \"stationery\"]\n",
    "\n",
    "# Calculate total amount spent on stationary in July\n",
    "total_amount = sum(record[\"quantity\"] * record[\"price_per_unit\"] for record in july_stationery_purchases)\n",
    "\n",
    "print(\"Total amount spent on stationary in July:\", total_amount)\n",
    "Replace the dataset variable with your actual dataset containing purchase records, and modify the code accordingly to match the structure of your data. This pseudocode demonstrates the general approach to calculating the total amount spent on stationary in July."
   ]
  },
  {
   "cell_type": "markdown",
   "id": "a95246b0-cfd7-43ce-a8c4-c16acd20a96e",
   "metadata": {},
   "source": [
    "Q5-What is the count of footwear that is coming from Delhi?"
   ]
  },
  {
   "cell_type": "code",
   "execution_count": null,
   "id": "1e518e47-540d-4d0d-a6f1-e8cbcd09c90f",
   "metadata": {},
   "outputs": [],
   "source": [
    "Ans-To find the count of footwear items coming from Delhi, you would need access to the dataset or records containing purchase records, including details such as the item name, quantity purchased, price per unit, category of the item (in this case, \"footwear\"), and the location or state of purchase.\n",
    "\n",
    "Once you have the dataset, you can follow these steps to calculate the count of footwear items coming from Delhi:\n",
    "\n",
    "Identify the Data Source: Locate the dataset or records that contain information about purchases, including details such as the item name, quantity purchased, price per unit, category of the item, and the location or state of purchase.\n",
    "Filter Data for Footwear Purchases from Delhi: Filter the dataset to include only the records where the purchased items belong to the \"footwear\" category and the location or state of purchase is Delhi.\n",
    "Calculate Total Count: Once you have filtered the dataset to include footwear purchases from Delhi, count the number of records or transactions. Each record represents a purchase of footwear items from Delhi, so the total count will give you the number of such purchases.\n",
    "Here's a Python-like pseudocode example illustrating these steps:\n",
    "\n",
    "python\n",
    "Copy code\n",
    "# Sample dataset containing purchase records\n",
    "dataset = [\n",
    "    {\"item\": \"Sneakers\", \"quantity\": 2, \"category\": \"footwear\", \"location\": \"Delhi\"},\n",
    "    {\"item\": \"Sandals\", \"quantity\": 1, \"category\": \"footwear\", \"location\": \"Mumbai\"},\n",
    "    {\"item\": \"Flip-flops\", \"quantity\": 3, \"category\": \"footwear\", \"location\": \"Delhi\"},\n",
    "    # Other purchase records...\n",
    "]\n",
    "\n",
    "# Filter data for footwear purchases from Delhi\n",
    "delhi_footwear_purchases = [record for record in dataset if record[\"category\"] == \"footwear\" and record[\"location\"] == \"Delhi\"]\n",
    "\n",
    "# Calculate count of footwear items coming from Delhi\n",
    "footwear_count_delhi = len(delhi_footwear_purchases)\n",
    "\n",
    "print(\"Count of footwear items coming from Delhi:\", footwear_count_delhi)\n",
    "Replace the dataset variable with your actual dataset containing purchase records, and modify the code accordingly to match the structure of your data. This pseudocode demonstrates the general approach to calculating the count of footwear items coming from Delhi."
   ]
  }
 ],
 "metadata": {
  "kernelspec": {
   "display_name": "Python 3 (ipykernel)",
   "language": "python",
   "name": "python3"
  },
  "language_info": {
   "codemirror_mode": {
    "name": "ipython",
    "version": 3
   },
   "file_extension": ".py",
   "mimetype": "text/x-python",
   "name": "python",
   "nbconvert_exporter": "python",
   "pygments_lexer": "ipython3",
   "version": "3.10.8"
  }
 },
 "nbformat": 4,
 "nbformat_minor": 5
}
