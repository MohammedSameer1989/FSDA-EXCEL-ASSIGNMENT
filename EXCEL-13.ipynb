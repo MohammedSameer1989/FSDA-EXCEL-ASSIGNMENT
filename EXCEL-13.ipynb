{
 "cells": [
  {
   "cell_type": "markdown",
   "id": "4191fa50-4f6e-4a19-aa94-fc98a26e79fe",
   "metadata": {},
   "source": [
    "Q1-What is the total amount of stationary bought from Madhya Pradesh?"
   ]
  },
  {
   "cell_type": "code",
   "execution_count": null,
   "id": "9993503c-2a5e-4381-af97-2114b6f98065",
   "metadata": {},
   "outputs": [],
   "source": [
    "Ans-To calculate the total amount of stationary bought from Madhya Pradesh, you would typically need access to a dataset containing purchase records. Each record in the dataset should include details such as the item name, quantity purchased, price per unit, and the location or state of purchase.\n",
    "\n",
    "Once you have the dataset, you can follow these steps to calculate the total amount spent on stationary bought from Madhya Pradesh:\n",
    "\n",
    "Identify the Data Source: Locate the dataset or records that contain information about purchases, including details such as the item name, quantity purchased, price per unit, and the location or state of purchase.\n",
    "Filter Data for Purchases from Madhya Pradesh: Filter the dataset to include only the records where the purchases were made from Madhya Pradesh. This can be done by examining the location or state column in the dataset and selecting the rows where the state is \"Madhya Pradesh\".\n",
    "Filter Data for Stationary Purchases: Further filter the dataset to include only the records where the purchased items belong to the category of \"stationary\".\n",
    "Calculate Total Amount: Once you have filtered the dataset to include stationary purchases from Madhya Pradesh, calculate the total amount spent on stationary. This can be done by multiplying the quantity purchased by the price per unit for each stationary item, and then summing up the total amounts for all the stationary items.\n",
    "Here's a Python-like pseudocode example illustrating these steps:\n",
    "\n",
    "python\n",
    "Copy code\n",
    "# Sample dataset containing purchase records\n",
    "dataset = [\n",
    "    {\"item\": \"Pen\", \"quantity\": 100, \"price_per_unit\": 10, \"state\": \"Madhya Pradesh\", \"category\": \"stationary\"},\n",
    "    {\"item\": \"Notebook\", \"quantity\": 50, \"price_per_unit\": 50, \"state\": \"Maharashtra\", \"category\": \"stationary\"},\n",
    "    {\"item\": \"Pencil\", \"quantity\": 200, \"price_per_unit\": 5, \"state\": \"Madhya Pradesh\", \"category\": \"stationary\"},\n",
    "    # Other purchase records...\n",
    "]\n",
    "\n",
    "# Filter data for purchases from Madhya Pradesh\n",
    "madhya_pradesh_purchases = [record for record in dataset if record[\"state\"] == \"Madhya Pradesh\"]\n",
    "\n",
    "# Filter data for stationary purchases from Madhya Pradesh\n",
    "madhya_pradesh_stationary_purchases = [record for record in madhya_pradesh_purchases if record[\"category\"] == \"stationary\"]\n",
    "\n",
    "# Calculate total amount spent on stationary bought from Madhya Pradesh\n",
    "total_amount = sum(record[\"quantity\"] * record[\"price_per_unit\"] for record in madhya_pradesh_stationary_purchases)\n",
    "\n",
    "print(\"Total amount of stationary bought from Madhya Pradesh:\", total_amount)\n",
    "Replace the dataset variable with your actual dataset containing purchase records, and modify the code accordingly to match the structure of your data. This pseudocode demonstrates the general approach to calculating the total amount of stationary bought from Madhya Pradesh."
   ]
  },
  {
   "cell_type": "markdown",
   "id": "14567f11-6c4a-4eea-bb44-e048b13186b3",
   "metadata": {},
   "source": [
    "Q2-What is the total count of stationary bought from Tamilnadu?"
   ]
  },
  {
   "cell_type": "code",
   "execution_count": null,
   "id": "643ebf99-8175-4fc2-9839-0001c3ece654",
   "metadata": {},
   "outputs": [],
   "source": [
    "Ans-To calculate the total count of stationary items bought from Tamil Nadu, you would typically need access to a dataset containing purchase records. Each record in the dataset should include details such as the item name, quantity purchased, price per unit, and the location or state of purchase.\n",
    "\n",
    "Once you have the dataset, you can follow these steps to calculate the total count of stationary items bought from Tamil Nadu:\n",
    "\n",
    "Identify the Data Source: Locate the dataset or records that contain information about purchases, including details such as the item name, quantity purchased, price per unit, and the location or state of purchase.\n",
    "Filter Data for Purchases from Tamil Nadu: Filter the dataset to include only the records where the purchases were made from Tamil Nadu. This can be done by examining the location or state column in the dataset and selecting the rows where the state is \"Tamil Nadu\".\n",
    "Filter Data for Stationary Purchases: Further filter the dataset to include only the records where the purchased items belong to the category of \"stationary\".\n",
    "Calculate Total Count: Once you have filtered the dataset to include stationary purchases from Tamil Nadu, count the number of records or transactions. Each record represents a purchase of stationary items from Tamil Nadu, so the total count will give you the number of such purchases.\n",
    "Here's a Python-like pseudocode example illustrating these steps:\n",
    "\n",
    "python\n",
    "Copy code\n",
    "# Sample dataset containing purchase records\n",
    "dataset = [\n",
    "    {\"item\": \"Pen\", \"quantity\": 100, \"state\": \"Tamil Nadu\", \"category\": \"stationary\"},\n",
    "    {\"item\": \"Notebook\", \"quantity\": 50, \"state\": \"Maharashtra\", \"category\": \"stationary\"},\n",
    "    {\"item\": \"Pencil\", \"quantity\": 200, \"state\": \"Tamil Nadu\", \"category\": \"stationary\"},\n",
    "    # Other purchase records...\n",
    "]\n",
    "\n",
    "# Filter data for purchases from Tamil Nadu\n",
    "tamilnadu_purchases = [record for record in dataset if record[\"state\"] == \"Tamil Nadu\"]\n",
    "\n",
    "# Filter data for stationary purchases from Tamil Nadu\n",
    "tamilnadu_stationary_purchases = [record for record in tamilnadu_purchases if record[\"category\"] == \"stationary\"]\n",
    "\n",
    "# Calculate total count of stationary items bought from Tamil Nadu\n",
    "total_count = len(tamilnadu_stationary_purchases)\n",
    "\n",
    "print(\"Total count of stationary items bought from Tamil Nadu:\", total_count)\n",
    "Replace the dataset variable with your actual dataset containing purchase records, and modify the code accordingly to match the structure of your data. This pseudocode demonstrates the general approach to calculating the total count of stationary items bought from Tamil Nadu."
   ]
  },
  {
   "cell_type": "markdown",
   "id": "a6aa7226-ac40-46e5-9ed2-41590bea9b22",
   "metadata": {},
   "source": [
    "Q3-What is the total amount spent on footwear?"
   ]
  },
  {
   "cell_type": "code",
   "execution_count": null,
   "id": "d62c0bac-618d-4e67-81c2-740ee39a3ecf",
   "metadata": {},
   "outputs": [],
   "source": [
    "Ans-To calculate the total amount spent on footwear, you would typically need access to a dataset containing purchase records. Each record in the dataset should include details such as the item name, quantity purchased, price per unit, and possibly the category of the item.\n",
    "\n",
    "Once you have the dataset, you can follow these steps to calculate the total amount spent on footwear:\n",
    "\n",
    "Identify the Data Source: Locate the dataset or records that contain information about purchases, including details such as the item name, quantity purchased, price per unit, and possibly the category of the item.\n",
    "Filter Data for Footwear Purchases: If the dataset includes a category column, filter the dataset to include only the records where the category is \"footwear\". If there's no category column, you may need to identify footwear items based on their names or other characteristics.\n",
    "Calculate Total Amount: Once you have filtered the dataset to include footwear purchases, calculate the total amount spent on footwear. This can be done by multiplying the quantity purchased by the price per unit for each footwear item, and then summing up the total amounts for all the footwear items.\n",
    "Here's a Python-like pseudocode example illustrating these steps:\n",
    "\n",
    "python\n",
    "Copy code\n",
    "# Sample dataset containing purchase records\n",
    "dataset = [\n",
    "    {\"item\": \"Sneakers\", \"quantity\": 2, \"price_per_unit\": 50},\n",
    "    {\"item\": \"Sandals\", \"quantity\": 1, \"price_per_unit\": 30},\n",
    "    {\"item\": \"Flip-flops\", \"quantity\": 3, \"price_per_unit\": 20},\n",
    "    # Other purchase records...\n",
    "]\n",
    "\n",
    "# Filter data for footwear purchases (assuming all items in the dataset are footwear)\n",
    "footwear_purchases = dataset\n",
    "\n",
    "# Calculate total amount spent on footwear\n",
    "total_amount = sum(record[\"quantity\"] * record[\"price_per_unit\"] for record in footwear_purchases)\n",
    "\n",
    "print(\"Total amount spent on footwear:\", total_amount)\n",
    "Replace the dataset variable with your actual dataset containing purchase records, and modify the code accordingly to match the structure of your data. This pseudocode demonstrates the general approach to calculating the total amount spent on footwear."
   ]
  },
  {
   "cell_type": "markdown",
   "id": "dc6c2b7f-0509-4922-b696-c138d18010b4",
   "metadata": {},
   "source": [
    "Q4-What is the total amount of money spent for stationary in July?"
   ]
  },
  {
   "cell_type": "code",
   "execution_count": null,
   "id": "c9b660ef-2425-448e-9e03-6127d7001ad4",
   "metadata": {},
   "outputs": [],
   "source": [
    "Ans-To calculate the total amount of money spent on stationary in July, you would need access to a dataset containing purchase records. Each record in the dataset should include details such as the item name, quantity purchased, price per unit, and the date of purchase.\n",
    "\n",
    "Once you have the dataset, you can follow these steps to calculate the total amount spent on stationary in July:\n",
    "\n",
    "Identify the Data Source: Locate the dataset or records that contain information about purchases, including details such as the item name, quantity purchased, price per unit, and the date of purchase.\n",
    "Filter Data for July Purchases: Filter the dataset to include only the records where the date of purchase falls within the month of July.\n",
    "Filter Data for Stationary Purchases: Further filter the dataset to include only the records where the purchased items belong to the category of \"stationary\".\n",
    "Calculate Total Amount: Once you have filtered the dataset to include stationary purchases in July, calculate the total amount spent on stationary. This can be done by multiplying the quantity purchased by the price per unit for each stationary item, and then summing up the total amounts for all the stationary items.\n",
    "Here's a Python-like pseudocode example illustrating these steps:\n",
    "\n",
    "python\n",
    "Copy code\n",
    "# Sample dataset containing purchase records\n",
    "dataset = [\n",
    "    {\"item\": \"Pen\", \"quantity\": 100, \"price_per_unit\": 10, \"purchase_date\": \"2024-07-05\", \"category\": \"stationary\"},\n",
    "    {\"item\": \"Notebook\", \"quantity\": 50, \"price_per_unit\": 50, \"purchase_date\": \"2024-07-10\", \"category\": \"stationary\"},\n",
    "    {\"item\": \"Pencil\", \"quantity\": 200, \"price_per_unit\": 5, \"purchase_date\": \"2024-06-30\", \"category\": \"stationary\"},\n",
    "    # Other purchase records...\n",
    "]\n",
    "\n",
    "# Filter data for July purchases\n",
    "july_purchases = [record for record in dataset if record[\"purchase_date\"].startswith(\"2024-07\")]\n",
    "\n",
    "# Filter data for stationary purchases in July\n",
    "july_stationary_purchases = [record for record in july_purchases if record[\"category\"] == \"stationary\"]\n",
    "\n",
    "# Calculate total amount spent on stationary in July\n",
    "total_amount = sum(record[\"quantity\"] * record[\"price_per_unit\"] for record in july_stationary_purchases)\n",
    "\n",
    "print(\"Total amount spent on stationary in July:\", total_amount)\n",
    "Replace the dataset variable with your actual dataset containing purchase records, and modify the code accordingly to match the structure of your data. This pseudocode demonstrates the general approach to calculating the total amount spent on stationary in July."
   ]
  },
  {
   "cell_type": "markdown",
   "id": "0fc9d3eb-d25d-4cb3-ae5e-815ab586a51e",
   "metadata": {},
   "source": [
    "Q5-What is the count of footwear that is coming from Delhi?"
   ]
  },
  {
   "cell_type": "code",
   "execution_count": null,
   "id": "fa47944e-1c3c-4333-b883-af89cd812e90",
   "metadata": {},
   "outputs": [],
   "source": [
    "Ans-To calculate the count of footwear items coming from Delhi, you would need access to a dataset containing purchase records. Each record in the dataset should include details such as the item name, quantity purchased, price per unit, category of the item (in this case, \"footwear\"), and the location or city of purchase.\n",
    "\n",
    "Once you have the dataset, you can follow these steps to calculate the count of footwear items coming from Delhi:\n",
    "\n",
    "Identify the Data Source: Locate the dataset or records that contain information about purchases, including details such as the item name, quantity purchased, price per unit, category of the item, and the location or city of purchase.\n",
    "Filter Data for Footwear Purchases from Delhi: Filter the dataset to include only the records where the purchased items belong to the \"footwear\" category and the location or city of purchase is Delhi.\n",
    "Calculate Total Count: Once you have filtered the dataset to include footwear purchases from Delhi, count the number of records or transactions. Each record represents a purchase of footwear items from Delhi, so the total count will give you the number of such purchases.\n",
    "Here's a Python-like pseudocode example illustrating these steps:\n",
    "\n",
    "python\n",
    "Copy code\n",
    "# Sample dataset containing purchase records\n",
    "dataset = [\n",
    "    {\"item\": \"Sneakers\", \"quantity\": 2, \"category\": \"footwear\", \"location\": \"Delhi\"},\n",
    "    {\"item\": \"Sandals\", \"quantity\": 1, \"category\": \"footwear\", \"location\": \"Mumbai\"},\n",
    "    {\"item\": \"Flip-flops\", \"quantity\": 3, \"category\": \"footwear\", \"location\": \"Delhi\"},\n",
    "    # Other purchase records...\n",
    "]\n",
    "\n",
    "# Filter data for footwear purchases from Delhi\n",
    "delhi_footwear_purchases = [record for record in dataset if record[\"category\"] == \"footwear\" and record[\"location\"] == \"Delhi\"]\n",
    "\n",
    "# Calculate count of footwear items coming from Delhi\n",
    "footwear_count_delhi = len(delhi_footwear_purchases)\n",
    "\n",
    "print(\"Count of footwear items coming from Delhi:\", footwear_count_delhi)\n",
    "Replace the dataset variable with your actual dataset containing purchase records, and modify the code accordingly to match the structure of your data. This pseudocode demonstrates the general approach to calculating the count of footwear items coming from Delhi.\n",
    "\n",
    "\n",
    "\n",
    "\n",
    "\n",
    "\n",
    "Message ChatGPT…\n",
    "\n",
    "ChatGPT can make mistakes. Consider checking important information."
   ]
  }
 ],
 "metadata": {
  "kernelspec": {
   "display_name": "Python 3 (ipykernel)",
   "language": "python",
   "name": "python3"
  },
  "language_info": {
   "codemirror_mode": {
    "name": "ipython",
    "version": 3
   },
   "file_extension": ".py",
   "mimetype": "text/x-python",
   "name": "python",
   "nbconvert_exporter": "python",
   "pygments_lexer": "ipython3",
   "version": "3.10.8"
  }
 },
 "nbformat": 4,
 "nbformat_minor": 5
}
